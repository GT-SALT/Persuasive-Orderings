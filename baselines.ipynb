{
 "cells": [
  {
   "cell_type": "code",
   "execution_count": 83,
   "metadata": {},
   "outputs": [],
   "source": [
    "import os\n",
    "from typing import Tuple, List\n",
    "from functools import partial\n",
    "\n",
    "import pandas as pd\n",
    "import numpy as np\n",
    "import torch\n",
    "import torch.nn as nn\n",
    "import torch.optim as optim\n",
    "from torch.utils.data import Dataset, DataLoader, RandomSampler\n",
    "from torch.nn.utils.rnn import pad_sequence\n",
    "import torch.nn.functional as F\n",
    "from torch.autograd import Variable\n",
    "from transformers import AutoTokenizer, AutoConfig, AutoModel, AdamW, get_linear_schedule_with_warmup\n",
    "from sklearn.model_selection import train_test_split\n",
    "from sklearn.metrics import roc_auc_score, f1_score, precision_score, recall_score, accuracy_score\n",
    "from tqdm import tqdm\n",
    "from pathlib import Path\n",
    "import logging\n",
    "import pickle\n",
    "from nltk.tokenize import sent_tokenize, word_tokenize\n",
    "import itertools\n",
    "import json\n",
    "import argparse\n",
    "import math\n",
    "import random\n",
    "import sys\n",
    "\n",
    "torch.manual_seed(0)\n",
    "np.random.seed(0)\n",
    "torch.backends.cudnn.deterministic = True\n",
    "torch.backends.cudnn.benchmark = False\n",
    "sys.path.append('./code')\n",
    "\n",
    "from model import HierachyVAE\n",
    "from read_data import *\n",
    "from utils import *\n",
    "from parsed_args import args"
   ]
  },
  {
   "cell_type": "code",
   "execution_count": 84,
   "metadata": {},
   "outputs": [],
   "source": [
    "data_path = './data/borrow/'\n",
    "with open(data_path + 'labeled_data.pkl', 'rb') as f:\n",
    "    labeled_data = pickle.load(f)\n",
    "    # {mid: sentences, labels}\n",
    "with open(data_path + 'unlabeled_data.pkl', 'rb') as f:\n",
    "    unlabeled_data = pickle.load(f)\n",
    "    # {mid: message}\n",
    "with open(data_path + 'mid2target.pkl', 'rb') as f:\n",
    "    mid2target = pickle.load(f)\n",
    "    # {mid: target, team_size}\n",
    "\n",
    "with open(data_path + 'label_mapping.pkl', 'rb') as f:\n",
    "    label_mapping = pickle.load(f)"
   ]
  },
  {
   "cell_type": "code",
   "execution_count": 86,
   "metadata": {},
   "outputs": [
    {
     "name": "stdout",
     "output_type": "stream",
     "text": [
      "gpu num:  1\n",
      "{0: 0, 1: 1, 2: 2, 3: 3, 4: 0, 5: 0, 6: 0, 7: 0, 8: 4, 9: 5}\n",
      "unk words:  9516\n",
      "vocab size:  13944\n",
      "#Labeled: 900, Unlabeled 48155, Val 400, Test 400, N class 6, 2\n"
     ]
    }
   ],
   "source": [
    "os.environ['CUDA_VISIBLE_DEVICES'] = args.gpu\n",
    "use_cuda = torch.cuda.is_available()\n",
    "devices = torch.device(\"cuda\" if torch.cuda.is_available() else \"cpu\")\n",
    "n_gpu = torch.cuda.device_count()\n",
    "print(\"gpu num: \", n_gpu)\n",
    "\n",
    "\n",
    "if args.warm_up == 'False':\n",
    "    args.warm_up = False\n",
    "else:\n",
    "    args.warm_up = True\n",
    "    \n",
    "    \n",
    "if args.hard == 'False':\n",
    "    args.hard = False\n",
    "else:\n",
    "    args.hard = True\n",
    "\n",
    "train_labeled_dataset, train_unlabeled_dataset, test_dataset, val_dataset, vocab, n_labels, doc_labels = read_data(\n",
    "    data_path=args.data_path, n_labeled_data=args.n_labeled_data, n_unlabeled_data=args.n_unlabeled_data, max_seq_num=args.max_seq_num, max_seq_len=args.max_seq_len, embedding_size=args.embedding_size)\n",
    "\n",
    "val_loader = Data.DataLoader(\n",
    "    dataset=val_dataset, batch_size=16, shuffle=False)\n",
    "test_loader = Data.DataLoader(\n",
    "    dataset=test_dataset, batch_size=16, shuffle=False)\n"
   ]
  },
  {
   "cell_type": "code",
   "execution_count": 88,
   "metadata": {},
   "outputs": [],
   "source": [
    "val_text = []\n",
    "val_labels = []\n",
    "val_mids = []\n",
    "for batch_idx, (x, l, y, mask1, mask2, mask3, mask4, mid, sent_len, doc_len) in enumerate(val_loader):\n",
    "    val_mids += mid\n",
    "    for k in mid:\n",
    "        val_text.append(\" \".join([str(x) for x in all_txts_obj[k][0]]))\n",
    "        val_labels.append(mid2target[k])\n",
    "\n",
    "test_text = []\n",
    "test_labels = []\n",
    "test_mids = []\n",
    "for batch_idx, (x, l, y, mask1, mask2, mask3, mask4, mid, sent_len, doc_len) in enumerate(test_loader):\n",
    "    test_mids += mid\n",
    "    for k in mid:\n",
    "        test_text.append(\" \".join([str(x) for x in all_txts_obj[k][0]]))\n",
    "        test_labels.append(mid2target[k])\n",
    "test_mids = set(test_mids)\n",
    "val_mids = set(val_mids)"
   ]
  },
  {
   "cell_type": "code",
   "execution_count": 89,
   "metadata": {},
   "outputs": [],
   "source": [
    "test_df = pd.DataFrame({\"body\": test_text, \"label\": test_labels})\n",
    "val_df = pd.DataFrame({\"body\": val_text, \"label\": val_labels})"
   ]
  },
  {
   "cell_type": "code",
   "execution_count": 92,
   "metadata": {},
   "outputs": [],
   "source": [
    "train_text = []\n",
    "train_labels = []\n",
    "for k in mid2target:\n",
    "    if k not in test_mids and k not in val_mids:\n",
    "        if type(all_txts_obj[k]) is list:\n",
    "            train_text.append(\" \".join([str(x) for x in all_txts_obj[k][0]]))\n",
    "        else:\n",
    "            train_text.append(all_txts_obj[k])\n",
    "        train_labels.append(mid2target[k])"
   ]
  },
  {
   "cell_type": "code",
   "execution_count": 93,
   "metadata": {},
   "outputs": [],
   "source": [
    "train_df = pd.DataFrame({\"body\": train_text, \"label\": train_labels})"
   ]
  },
  {
   "cell_type": "code",
   "execution_count": 12,
   "metadata": {},
   "outputs": [],
   "source": [
    "train_df.to_csv(\"train_split.csv\")\n",
    "test_df.to_csv(\"test_split.csv\")\n",
    "val_df.to_csv(\"val_split.csv\")"
   ]
  },
  {
   "cell_type": "code",
   "execution_count": 13,
   "metadata": {},
   "outputs": [],
   "source": [
    "logging.getLogger(\"transformers.tokenization_utils\").setLevel(logging.ERROR)\n",
    "\n",
    "bert_model_name = 'bert-base-cased'\n",
    "\n",
    "tokenizer = AutoTokenizer.from_pretrained(bert_model_name)\n",
    "assert tokenizer.pad_token_id == 0, \"Padding value used in masks is set to zero, please change it everywhere\""
   ]
  },
  {
   "cell_type": "code",
   "execution_count": 15,
   "metadata": {},
   "outputs": [],
   "source": [
    "class PersuasionDataset(Dataset):\n",
    "    \n",
    "    def __init__(self, tokenizer: AutoTokenizer, dataframe: pd.DataFrame, lazy: bool = False):\n",
    "        self.tokenizer = tokenizer\n",
    "        self.pad_idx = tokenizer.pad_token_id\n",
    "        self.lazy = lazy\n",
    "        if not self.lazy:\n",
    "            self.X = []\n",
    "            self.Y = []\n",
    "            for i, (row) in tqdm(dataframe.iterrows()):\n",
    "                x, y = self.row_to_tensor(self.tokenizer, row)\n",
    "                self.X.append(x)\n",
    "                self.Y.append(y)\n",
    "        else:\n",
    "            self.df = dataframe        \n",
    "    \n",
    "    @staticmethod\n",
    "    def row_to_tensor(tokenizer: AutoTokenizer, row: pd.Series, idx):\n",
    "        tokens = tokenizer.encode(str(row[\"body\"]), add_special_tokens=True)\n",
    "        if len(tokens) > 511:\n",
    "            tokens = tokens[:511] + [tokens[-1]]\n",
    "        x = torch.LongTensor(tokens)\n",
    "        y = torch.FloatTensor([row[\"label\"]])\n",
    "        return x, y, idx\n",
    "        \n",
    "    \n",
    "    def __len__(self):\n",
    "        if self.lazy:\n",
    "            return len(self.df)\n",
    "        else:\n",
    "            return len(self.X)\n",
    "\n",
    "    def __getitem__(self, index: int) -> Tuple[torch.LongTensor, torch.LongTensor]:\n",
    "        if not self.lazy:\n",
    "            return self.X[index], self.Y[index], index\n",
    "        else:\n",
    "            return self.row_to_tensor(self.tokenizer, self.df.iloc[index], index) \n",
    "            \n",
    "\n",
    "def collate_fn(batch) \\\n",
    "        -> Tuple[torch.LongTensor, torch.LongTensor]:\n",
    "    x, y, index = list(zip(*batch))\n",
    "    x = pad_sequence(x, batch_first=True, padding_value=0)\n",
    "    y = torch.stack(y)\n",
    "    return x.cuda(), y.cuda(), index\n",
    "\n",
    "train_dataset = PersuasionDataset(tokenizer, train_df, lazy=True)\n",
    "dev_dataset = PersuasionDataset(tokenizer, val_df, lazy=True)\n",
    "test_dataset = PersuasionDataset(tokenizer, test_df, lazy=True)\n",
    "collate_fn = partial(collate_fn)\n",
    "BATCH_SIZE = 8\n",
    "train_sampler = RandomSampler(train_dataset)\n",
    "dev_sampler = RandomSampler(dev_dataset)\n",
    "test_sampler = RandomSampler(test_dataset)\n",
    "\n",
    "train_iterator = DataLoader(train_dataset, batch_size=BATCH_SIZE, sampler=train_sampler, collate_fn=collate_fn)\n",
    "dev_iterator = DataLoader(dev_dataset, batch_size=BATCH_SIZE, sampler=dev_sampler, collate_fn=collate_fn)\n",
    "test_iterator = DataLoader(test_dataset, batch_size=BATCH_SIZE, sampler=test_sampler, collate_fn=collate_fn)"
   ]
  },
  {
   "cell_type": "code",
   "execution_count": 16,
   "metadata": {},
   "outputs": [],
   "source": [
    "config = AutoConfig.from_pretrained(\"bert-base-cased\", output_attentions=True)"
   ]
  },
  {
   "cell_type": "code",
   "execution_count": 17,
   "metadata": {},
   "outputs": [],
   "source": [
    "class BertClassifier(nn.Module):\n",
    "    \n",
    "    def __init__(self, bert: AutoModel, num_classes: int):\n",
    "        super().__init__()\n",
    "        self.bert = bert\n",
    "        self.classifier = nn.Linear(bert.config.hidden_size, num_classes)\n",
    "        \n",
    "    def forward(self, input_ids, attention_mask=None, token_type_ids=None, position_ids=None, head_mask=None,\n",
    "                \n",
    "            labels=None):\n",
    "        distilbert_output = self.bert(input_ids,\n",
    "                               attention_mask=attention_mask,\n",
    "\n",
    "                               head_mask=head_mask)\n",
    "\n",
    "\n",
    "        hidden_state = distilbert_output[0]  # (bs, seq_len, dim)\n",
    "        pooled_output = hidden_state[:, 0]  # (bs, dim)\n",
    "        pooled_output = self.classifier(pooled_output) # batch, 6\n",
    "        pooled_output = torch.sigmoid(pooled_output)\n",
    "        criterion = nn.BCELoss()\n",
    "        loss = 0\n",
    "        if labels is not None:\n",
    "            loss = criterion(pooled_output, labels)\n",
    "        return loss, pooled_output, distilbert_output[-1]\n",
    "\n",
    "model = BertClassifier(AutoModel.from_pretrained(bert_model_name, config=config), 1).cuda()"
   ]
  },
  {
   "cell_type": "code",
   "execution_count": 18,
   "metadata": {},
   "outputs": [],
   "source": [
    "no_decay = ['bias', 'LayerNorm.weight']\n",
    "optimizer_grouped_parameters = [\n",
    "{'params': [p for n, p in model.named_parameters() if not any(nd in n for nd in no_decay)], 'weight_decay': 0.01},\n",
    "{'params': [p for n, p in model.named_parameters() if any(nd in n for nd in no_decay)], 'weight_decay': 0.0}\n",
    "]\n",
    "EPOCH_NUM = 10\n",
    "# triangular learning rate, linearly grows untill half of first epoch, then linearly decays \n",
    "warmup_steps = 10 ** 3\n",
    "total_steps = len(train_iterator) * EPOCH_NUM - warmup_steps\n",
    "optimizer = AdamW(optimizer_grouped_parameters, lr=2e-5, eps=1e-8)\n",
    "scheduler = get_linear_schedule_with_warmup(optimizer, warmup_steps, total_steps)\n"
   ]
  },
  {
   "cell_type": "code",
   "execution_count": 19,
   "metadata": {},
   "outputs": [],
   "source": [
    "def train(model, iterator, optimizer, scheduler):\n",
    "    model.train()\n",
    "    total_loss = 0\n",
    "    for x, y, idx in tqdm(iterator, position=0, leave=True):\n",
    "        optimizer.zero_grad()\n",
    "        mask = (x != 0).float()\n",
    "        loss, outputs, attn = model(x, attention_mask=mask, labels=y)\n",
    "        total_loss += loss.item()\n",
    "        loss.backward()\n",
    "        optimizer.step()\n",
    "        scheduler.step()\n",
    "    print(f\"Train loss {total_loss / len(iterator)}\")\n"
   ]
  },
  {
   "cell_type": "code",
   "execution_count": 20,
   "metadata": {},
   "outputs": [],
   "source": [
    "def evaluate(model, iterator, df):\n",
    "    \n",
    "\n",
    "    model.eval()\n",
    "    total = 0\n",
    "    correct = 0\n",
    "    perms = 0\n",
    "    total_perms = 0\n",
    "    total_model_outs = []\n",
    "    total_model_labels = []\n",
    "    with torch.no_grad():\n",
    "        total_loss = 0\n",
    "        for x, y, idx in tqdm(iterator, position=0, leave=True):\n",
    "            mask = (x != 0).float()\n",
    "            loss, outputs, attn = model(x, attention_mask=mask, labels=y)\n",
    "            total_loss += loss\n",
    "            \n",
    "            model_outputs = (outputs.squeeze() > .5).tolist()\n",
    "            correct_labels = (y.squeeze() == 1).tolist()\n",
    "            \n",
    "            total_model_outs = total_model_outs + model_outputs\n",
    "            total_model_labels = total_model_labels + correct_labels\n",
    "\n",
    "    \n",
    "    \n",
    "    print(total_model_labels[:10])\n",
    "    print(total_model_outs[:10])\n",
    "    \n",
    "    print(\"roc auc: \")\n",
    "    print(roc_auc_score(total_model_labels, total_model_outs))\n",
    "    print(\"recall: \")\n",
    "    print(recall_score(total_model_labels, total_model_outs, average=\"macro\"))\n",
    "    print(\"prec: \")\n",
    "    print(precision_score(total_model_labels, total_model_outs, average=\"macro\"))\n",
    "    print(\"f1: \")\n",
    "    print(f1_score(total_model_labels, total_model_outs, average=\"macro\"))\n",
    "    print(\"accuracy: \")\n",
    "    print(accuracy_score(total_model_labels, total_model_outs))\n",
    "    print(f\"Evaluate loss {total_loss / len(iterator)}\")"
   ]
  },
  {
   "cell_type": "code",
   "execution_count": 28,
   "metadata": {},
   "outputs": [],
   "source": [
    "torch.save(model.state_dict(), './bert_baseline_tmp.pkl')"
   ]
  },
  {
   "cell_type": "code",
   "execution_count": 39,
   "metadata": {},
   "outputs": [
    {
     "name": "stderr",
     "output_type": "stream",
     "text": [
      "100%|██████████| 50/50 [00:01<00:00, 33.49it/s]\n",
      " 10%|█         | 5/50 [00:00<00:01, 39.34it/s]"
     ]
    },
    {
     "name": "stdout",
     "output_type": "stream",
     "text": [
      "[False, True, True, True, True, True, False, True, False, True]\n",
      "[False, True, True, True, False, True, True, False, True, True]\n",
      "roc auc: \n",
      "0.643358395989975\n",
      "recall: \n",
      "0.6433583959899749\n",
      "prec: \n",
      "0.6439210950080516\n",
      "f1: \n",
      "0.64349376114082\n",
      "accuracy: \n",
      "0.645\n",
      "Evaluate loss 0.9059433341026306\n"
     ]
    },
    {
     "name": "stderr",
     "output_type": "stream",
     "text": [
      "100%|██████████| 50/50 [00:01<00:00, 32.46it/s]"
     ]
    },
    {
     "name": "stdout",
     "output_type": "stream",
     "text": [
      "[False, False, False, True, False, False, True, False, False, True]\n",
      "[False, True, False, False, False, True, False, False, True, False]\n",
      "roc auc: \n",
      "0.6402243589743589\n",
      "recall: \n",
      "0.640224358974359\n",
      "prec: \n",
      "0.6422222222222222\n",
      "f1: \n",
      "0.640050090931402\n",
      "accuracy: \n",
      "0.6425\n",
      "Evaluate loss 0.9702701568603516\n"
     ]
    },
    {
     "name": "stderr",
     "output_type": "stream",
     "text": [
      "\n"
     ]
    }
   ],
   "source": [
    "evaluate(model, test_iterator, test_df)\n",
    "evaluate(model, dev_iterator, val_df)"
   ]
  },
  {
   "cell_type": "code",
   "execution_count": null,
   "metadata": {},
   "outputs": [],
   "source": [
    "for i in range(1):\n",
    "    print('=' * 50, f\"EPOCH {i}\", '=' * 50)\n",
    "    train(model, train_iterator, optimizer, scheduler)\n",
    "    evaluate(model, dev_iterator, val_df)    \n",
    "    evaluate(model, test_iterator, test_df)"
   ]
  },
  {
   "cell_type": "code",
   "execution_count": 29,
   "metadata": {},
   "outputs": [],
   "source": [
    "from sklearn.dummy import DummyClassifier\n",
    "from sklearn.feature_extraction.text import TfidfVectorizer"
   ]
  },
  {
   "cell_type": "code",
   "execution_count": 33,
   "metadata": {},
   "outputs": [],
   "source": [
    "f1s = []\n",
    "ps = []\n",
    "rs = []\n",
    "corpus = train_df[\"body\"]\n",
    "vectorizer = TfidfVectorizer()\n",
    "X = vectorizer.fit_transform([str(x) for x in corpus])\n",
    "\n",
    "for i in range(0, 100):\n",
    "    \n",
    "\n",
    "    clf = DummyClassifier(strategy=\"uniform\").fit(X, train_df[\"label\"])\n",
    "\n",
    "    results = clf.predict(vectorizer.transform(test_df[\"body\"]))\n",
    "\n",
    "    total_model_outs = results\n",
    "    total_model_labels = test_df[\"label\"]\n",
    "\n",
    "    f1s.append(f1_score(total_model_labels, total_model_outs, average=\"macro\"))\n",
    "    rs.append(recall_score(total_model_labels, total_model_outs, average=\"macro\"))\n",
    "    ps.append(precision_score(total_model_labels, total_model_outs, average=\"macro\"))"
   ]
  },
  {
   "cell_type": "code",
   "execution_count": 110,
   "metadata": {},
   "outputs": [
    {
     "data": {
      "text/plain": [
       "MultinomialNB(alpha=1.0, class_prior=None, fit_prior=True)"
      ]
     },
     "execution_count": 110,
     "metadata": {},
     "output_type": "execute_result"
    }
   ],
   "source": [
    "from sklearn.naive_bayes import MultinomialNB\n",
    "corpus = train_df[\"body\"]\n",
    "vectorizer = CountVectorizer()\n",
    "X = vectorizer.fit_transform([str(x) for x in corpus])\n",
    "nb = MultinomialNB()\n",
    "\n",
    "nb.fit(X, train_df[\"label\"])\n"
   ]
  },
  {
   "cell_type": "code",
   "execution_count": 114,
   "metadata": {},
   "outputs": [
    {
     "name": "stdout",
     "output_type": "stream",
     "text": [
      "roc auc: \n",
      "0.6254385964912281\n",
      "recall: \n",
      "0.6254385964912281\n",
      "prec: \n",
      "0.6370519455625838\n",
      "f1: \n",
      "0.6212292014248997\n",
      "accuracy: \n",
      "0.6325\n",
      "roc auc: \n",
      "0.6119791666666667\n",
      "recall: \n",
      "0.6119791666666666\n",
      "prec: \n",
      "0.62168376370711\n",
      "f1: \n",
      "0.6071256620125179\n",
      "accuracy: \n",
      "0.6175\n"
     ]
    }
   ],
   "source": [
    "results = nb.predict(vectorizer.transform(test_df[\"body\"]))\n",
    "\n",
    "total_model_outs = results\n",
    "total_model_labels = test_df[\"label\"]\n",
    "\n",
    "print(\"roc auc: \")\n",
    "print(roc_auc_score(total_model_labels, total_model_outs))\n",
    "print(\"recall: \")\n",
    "print(recall_score(total_model_labels, total_model_outs, average=\"macro\"))\n",
    "print(\"prec: \")\n",
    "print(precision_score(total_model_labels, total_model_outs, average=\"macro\"))\n",
    "print(\"f1: \")\n",
    "print(f1_score(total_model_labels, total_model_outs, average=\"macro\"))\n",
    "print(\"accuracy: \")\n",
    "print(accuracy_score(total_model_labels, total_model_outs))\n",
    "\n",
    "results = nb.predict(vectorizer.transform(val_df[\"body\"]))\n",
    "\n",
    "total_model_outs = results\n",
    "total_model_labels = val_df[\"label\"]\n",
    "\n",
    "print(\"roc auc: \")\n",
    "print(roc_auc_score(total_model_labels, total_model_outs))\n",
    "print(\"recall: \")\n",
    "print(recall_score(total_model_labels, total_model_outs, average=\"macro\"))\n",
    "print(\"prec: \")\n",
    "print(precision_score(total_model_labels, total_model_outs, average=\"macro\"))\n",
    "print(\"f1: \")\n",
    "print(f1_score(total_model_labels, total_model_outs, average=\"macro\"))\n",
    "print(\"accuracy: \")\n",
    "print(accuracy_score(total_model_labels, total_model_outs))\n"
   ]
  }
 ],
 "metadata": {
  "kernelspec": {
   "display_name": "Python 3",
   "language": "python",
   "name": "python3"
  },
  "language_info": {
   "codemirror_mode": {
    "name": "ipython",
    "version": 3
   },
   "file_extension": ".py",
   "mimetype": "text/x-python",
   "name": "python",
   "nbconvert_exporter": "python",
   "pygments_lexer": "ipython3",
   "version": "3.7.6"
  }
 },
 "nbformat": 4,
 "nbformat_minor": 4
}
