{
 "cells": [
  {
   "cell_type": "code",
   "execution_count": 1,
   "metadata": {},
   "outputs": [],
   "source": [
    "%reload_ext autoreload\n",
    "%autoreload 2\n",
    "\n",
    "import math\n",
    "import os\n",
    "import random\n",
    "\n",
    "import sys\n",
    "sys.path.append('./code')\n",
    "from parsed_args import args\n",
    "\n",
    "import numpy as np\n",
    "import torch\n",
    "import torch.nn as nn\n",
    "import torch.nn.functional as F\n",
    "import torch.utils.data as Data\n",
    "from torch.autograd import Variable\n",
    "from torch.utils.data import Dataset\n",
    "import math\n",
    "from tqdm import tqdm\n",
    "import warnings \n",
    "warnings.filterwarnings(\"ignore\")\n",
    "from sklearn.metrics import f1_score, precision_score, recall_score, accuracy_score, roc_auc_score\n",
    "\n",
    "from vae_train.vae_utils import *\n",
    "from code.dataset_iterators import *\n",
    "\n",
    "torch.manual_seed(0)\n",
    "np.random.seed(0)\n",
    "torch.backends.cudnn.deterministic = True\n",
    "torch.backends.cudnn.benchmark = False\n"
   ]
  },
  {
   "cell_type": "code",
   "execution_count": 2,
   "metadata": {},
   "outputs": [
    {
     "name": "stdout",
     "output_type": "stream",
     "text": [
      "The autoreload extension is already loaded. To reload it, use:\n",
      "  %reload_ext autoreload\n"
     ]
    }
   ],
   "source": [
    "%load_ext autoreload\n",
    "%autoreload 2\n",
    "from vae_train.vae_model import HierachyVAE\n",
    "from lstm_train.lstm_model import AttnContentStrategy\n",
    "from read_data import *\n",
    "from utils import *\n",
    "from collections import defaultdict\n",
    "from editing_utils import *"
   ]
  },
  {
   "cell_type": "markdown",
   "metadata": {},
   "source": [
    "## First, we'll check the labeled data distribution!\n",
    "### Table 1"
   ]
  },
  {
   "cell_type": "code",
   "execution_count": 3,
   "metadata": {},
   "outputs": [],
   "source": [
    "with open(args.data_path + 'labeled_data.pkl', 'rb') as f:\n",
    "    labeled_data_pkl = pickle.load(f)\n",
    "with open(args.data_path + 'unlabeled_data.pkl', 'rb') as f:\n",
    "    unlabeled_data_pkl = pickle.load(f)"
   ]
  },
  {
   "cell_type": "code",
   "execution_count": 4,
   "metadata": {},
   "outputs": [
    {
     "data": {
      "text/plain": [
       "49855"
      ]
     },
     "execution_count": 4,
     "metadata": {},
     "output_type": "execute_result"
    }
   ],
   "source": [
    "len(unlabeled_data_pkl) + len(labeled_data_pkl)"
   ]
  },
  {
   "cell_type": "markdown",
   "metadata": {},
   "source": [
    "The labeled data pkl is structured as follows:\n",
    "```\n",
    "[[sentences, labels], [sentences, labels], ...]\n",
    "```\n",
    "Here, we extract the labels and count how frequently they appear"
   ]
  },
  {
   "cell_type": "code",
   "execution_count": 5,
   "metadata": {},
   "outputs": [],
   "source": [
    "def get_label_distribution(labeled_data_pkl):\n",
    "    sentence_labels = [labeled_data_pkl[k][1] for k in labeled_data_pkl]\n",
    "    freq = defaultdict(int)\n",
    "    for sent in sentence_labels:\n",
    "        for strategy in sent:\n",
    "            freq[strategy] += 1\n",
    "            \n",
    "    tot = sum(freq[strategy] for strategy in freq)\n",
    "    for strategy in freq:\n",
    "        freq[strategy] = freq[strategy] / tot\n",
    "    return freq"
   ]
  },
  {
   "cell_type": "code",
   "execution_count": 6,
   "metadata": {},
   "outputs": [
    {
     "data": {
      "text/plain": [
       "defaultdict(int,\n",
       "            {3: 0.38982758620689656,\n",
       "             2: 0.17517241379310344,\n",
       "             0: 0.05672413793103448,\n",
       "             1: 0.07879310344827586,\n",
       "             8: 0.11724137931034483,\n",
       "             9: 0.16,\n",
       "             6: 0.0017241379310344827,\n",
       "             5: 0.010344827586206896,\n",
       "             7: 0.01,\n",
       "             4: 0.00017241379310344826})"
      ]
     },
     "execution_count": 6,
     "metadata": {},
     "output_type": "execute_result"
    }
   ],
   "source": [
    "get_label_distribution(labeled_data_pkl)"
   ]
  },
  {
   "cell_type": "markdown",
   "metadata": {},
   "source": [
    "We actually started with a larger set of labels than originally presented in the paper;\n",
    "however, these labels were eventually merged to the subset that appears in our work. This bit does a little merging."
   ]
  },
  {
   "cell_type": "code",
   "execution_count": 7,
   "metadata": {},
   "outputs": [
    {
     "name": "stdout",
     "output_type": "stream",
     "text": [
      "{'Cred': 0.07879310344827586, 'Recip': 0.17517241379310344, 'Concret': 0.38982758620689656, 'Impac': 0.11724137931034483, 'Polit': 0.16, 'other': 0.0789655172413793}\n"
     ]
    }
   ],
   "source": [
    "# these are all our proposed strategies\n",
    "all_strategies = ['Other', 'Cred', 'Recip', 'Concret', 'Commit', 'Scar', 'Identit', 'Emo', 'Impac', 'Polit']\n",
    "\n",
    "with open(args.data_path + 'label_mapping.pkl', 'rb') as f:\n",
    "    label_mapping = pickle.load(f)\n",
    "\n",
    "def merge_labels(label_mapping, all_strats, freq):\n",
    "    # build an inverse mapping from the label_mapping pkl\n",
    "    inverse_label_mapping = {}\n",
    "    for key in label_mapping:\n",
    "        value = label_mapping[key] \n",
    "        if value in inverse_label_mapping:\n",
    "            inverse_label_mapping[value] = 0\n",
    "        else:\n",
    "            inverse_label_mapping[value] = key\n",
    "            \n",
    "    # select the subset that we use from all_strategies \n",
    "    selected = [1, 2, 3, 8, 9]\n",
    "    merged = {}\n",
    "    for i in selected: merged[all_strats[i]] = 0\n",
    "    merged[\"other\"] = 0\n",
    "\n",
    "    for k in freq:\n",
    "        if k in selected:\n",
    "            merged[all_strats[k]] += freq[k]\n",
    "        else:\n",
    "            merged[\"other\"] += freq[k]\n",
    "    \n",
    "    return merged, inverse_label_mapping\n",
    "\n",
    "merged, inverse_label_mapping = merge_labels(label_mapping, all_strategies, get_label_distribution(labeled_data_pkl))\n",
    "print(merged)"
   ]
  },
  {
   "cell_type": "markdown",
   "metadata": {},
   "source": [
    "## Now, we'll extract the content and strategy vectors from our VAE model.\n",
    "#### Section 2, Modeling Part"
   ]
  },
  {
   "cell_type": "code",
   "execution_count": 8,
   "metadata": {},
   "outputs": [
    {
     "name": "stdout",
     "output_type": "stream",
     "text": [
      "gpu num:  1\n"
     ]
    }
   ],
   "source": [
    "os.environ['CUDA_VISIBLE_DEVICES'] = \"6\"\n",
    "use_cuda = torch.cuda.is_available()\n",
    "devices = torch.device(\"cuda\" if torch.cuda.is_available() else \"cpu\")\n",
    "n_gpu = torch.cuda.device_count()\n",
    "print(\"gpu num: \", n_gpu)"
   ]
  },
  {
   "cell_type": "code",
   "execution_count": 9,
   "metadata": {},
   "outputs": [
    {
     "name": "stdout",
     "output_type": "stream",
     "text": [
      "./data/borrow/\n"
     ]
    }
   ],
   "source": [
    "print(args.data_path)"
   ]
  },
  {
   "cell_type": "code",
   "execution_count": 10,
   "metadata": {},
   "outputs": [
    {
     "name": "stdout",
     "output_type": "stream",
     "text": [
      "{0: 0, 1: 1, 2: 2, 3: 3, 4: 0, 5: 0, 6: 0, 7: 0, 8: 4, 9: 5}\n",
      "unk words:  9516\n",
      "vocab size:  13944\n",
      "#Labeled: 900, Unlabeled 48155, Val 400, Test 400, N class 6, 2\n"
     ]
    },
    {
     "data": {
      "text/plain": [
       "DataParallel(\n",
       "  (module): HierachyVAE(\n",
       "    (embedding): Embedding(13944, 128)\n",
       "    (encoder): Encoder(\n",
       "      (lstm): LSTM(128, 128, batch_first=True)\n",
       "    )\n",
       "    (hidden_to_mu): Linear(in_features=70, out_features=64, bias=True)\n",
       "    (hidden_to_logvar): Linear(in_features=70, out_features=64, bias=True)\n",
       "    (hidden_linear): Linear(in_features=128, out_features=64, bias=True)\n",
       "    (classifier): Linear(in_features=128, out_features=6, bias=True)\n",
       "    (predictor): Predictor(\n",
       "      (embedding): Linear(in_features=6, out_features=64, bias=False)\n",
       "      (lstm): LSTM(70, 64, batch_first=True)\n",
       "      (predict): Linear(in_features=64, out_features=2, bias=True)\n",
       "    )\n",
       "    (generator): Generator(\n",
       "      (lstm): LSTM(198, 128, batch_first=True)\n",
       "      (linear): Linear(in_features=128, out_features=13944, bias=True)\n",
       "    )\n",
       "  )\n",
       ")"
      ]
     },
     "execution_count": 10,
     "metadata": {},
     "output_type": "execute_result"
    }
   ],
   "source": [
    "train_labeled_dataset, train_unlabeled_dataset, test_dataset, val_dataset, vocab, n_labels, doc_labels = read_data(\n",
    "    data_path=args.data_path, n_labeled_data=args.n_labeled_data, n_unlabeled_data=args.n_unlabeled_data, max_seq_num=args.max_seq_num, max_seq_len=args.max_seq_len, embedding_size=args.embedding_size)\n",
    "\n",
    "dist = train_labeled_dataset.esit_dist\n",
    "\n",
    "labeled_trainloader = Data.DataLoader(\n",
    "    dataset=train_labeled_dataset, batch_size=args.batch_size, shuffle=True)\n",
    "unlabeled_trainloader = Data.DataLoader(\n",
    "    dataset=train_unlabeled_dataset, batch_size=args.batch_size_u, shuffle=True)\n",
    "val_loader = Data.DataLoader(\n",
    "    dataset=val_dataset, batch_size=16, shuffle=False)\n",
    "test_loader = Data.DataLoader(\n",
    "    dataset=test_dataset, batch_size=16, shuffle=False)\n",
    "\n",
    "model = HierachyVAE(vocab.vocab_size, args.embedding_size, args.n_highway_layers, args.encoder_hidden_size, args.encoder_layers, args.generator_hidden_size, args.generator_layers, args.z_size, n_labels, doc_labels, args.bidirectional, vocab.embed, args.hard).cuda()\n",
    "model = nn.DataParallel(model).cuda()\n",
    "model.load_state_dict(torch.load(args.data_path + 'model_state.pkl'))\n",
    "model.eval()\n"
   ]
  },
  {
   "cell_type": "code",
   "execution_count": 11,
   "metadata": {},
   "outputs": [
    {
     "name": "stderr",
     "output_type": "stream",
     "text": [
      "100%|██████████| 120/120 [00:52<00:00,  2.30it/s]\n"
     ]
    }
   ],
   "source": [
    "labeled_train_iter = iter(labeled_trainloader)\n",
    "unlabeled_train_iter = iter(unlabeled_trainloader)\n",
    "tau = args.tau\n",
    "\n",
    "content_vectors = []\n",
    "strat_vectors = []\n",
    "doc_labels = []\n",
    "mappings = []\n",
    "orig_fetch = []\n",
    "for batch_idx in tqdm(range(args.val_iteration), position=0, leave=True):\n",
    "    try:\n",
    "        x, l, y, mask1, mask2, mask3, mask4, mid, sent_len, doc_len = labeled_train_iter.next()\n",
    "\n",
    "    except:\n",
    "        labeled_train_iter = iter(labeled_trainloader)\n",
    "        x, l, y, mask1, mask2, mask3, mask4, mid, sent_len, doc_len = labeled_train_iter.next()\n",
    "\n",
    "    try:\n",
    "        x_u, l_u, y_u, mask1_u, mask2_u, mask3_u, mask4_u, mid_u, sent_len_u, doc_len_u = unlabeled_train_iter.next()\n",
    "\n",
    "    except:\n",
    "        unlabeled_train_iter = iter(unlabeled_trainloader)\n",
    "        x_u, l_u, y_u, mask1_u, mask2_u, mask3_u, mask4_u, mid_u, sent_len_u = unlabeled_train_iter.next()\n",
    "\n",
    "    x = torch.cat([x, x_u], dim = 0)\n",
    "    l = torch.cat([l, l_u], dim = 0)\n",
    "    y = torch.cat([y.long(), y_u.long()], dim = 0)\n",
    "\n",
    "    mask1 = torch.cat([mask1, mask1_u], dim = 0)\n",
    "    mask2 = torch.cat([mask2, mask2_u], dim = 0)\n",
    "    mask3 = torch.cat([mask3, mask3_u], dim = 0)\n",
    "    mask4 = torch.cat([mask4, mask4_u], dim = 0)\n",
    "\n",
    "    doc_len = torch.cat([doc_len, doc_len_u], dim = 0)\n",
    "    sent_len = torch.cat([sent_len, sent_len_u], dim = 0)\n",
    "\n",
    "    batch_size = l.shape[0]\n",
    "    seq_num = x.shape[1]\n",
    "    seq_len = x.shape[2]\n",
    "\n",
    "    mid = mid + mid_u\n",
    "\n",
    "    temp = l.view(-1, 1).long()\n",
    "    l_one_hot = torch.zeros(batch_size*seq_num, n_labels).cuda()\n",
    "\n",
    "    for i in range(0, len(temp)):\n",
    "        if temp[i] != 10:\n",
    "            l_one_hot[i][temp[i]] = 1\n",
    "\n",
    "    l_one_hot = l_one_hot.view(batch_size, seq_num, n_labels)\n",
    "\n",
    "    if batch_idx % 30 == 1:\n",
    "        tau = np.maximum(tau * np.exp(-args.anneal_rate*batch_idx), args.tau_min)\n",
    "\n",
    "    xs, ys = (x.view(batch_size*seq_num, seq_len), l.view(batch_size*seq_num))\n",
    "    prob = create_generator_inputs(xs, vocab, train = False)\n",
    "\n",
    "\n",
    "    x, prob, l_one_hot, y, l = x.cuda(), prob.cuda(), l_one_hot.cuda(), y.cuda(), l.cuda()\n",
    "    mask1, mask2 = mask1.cuda(), mask2.cuda()\n",
    "\n",
    "    logits, kld_z, q_y, q_y_softmax, t, strategy_embedding, y_in2, content_vec = model(x, prob, args.tau, \n",
    "        mask1, mask2, args.hard, l_one_hot, doc_len = doc_len, sent_len = sent_len)\n",
    "    \n",
    "    max_idxs = y_in2.argmax(axis=1)\n",
    "    argmaxed = torch.zeros(y_in2.shape)\n",
    "    argmaxed[torch.arange(y_in2.shape[0]),max_idxs] = 1\n",
    "    y_in2 = (argmaxed.T.cpu() * y_in2.sum(axis=1).cpu()).T\n",
    "    \n",
    "    last_dim = int((content_vec.shape[0] * content_vec.shape[1]) / (batch_size * seq_num))\n",
    "    content_vectors.append(content_vec.reshape((batch_size, seq_num, last_dim)).tolist())\n",
    "    strat_vectors.append(y_in2.reshape(batch_size, seq_num, n_labels).tolist())\n",
    "    doc_labels.append(y.tolist())\n",
    "    orig_fetch.append(mid)    "
   ]
  },
  {
   "cell_type": "markdown",
   "metadata": {},
   "source": [
    "#### Here is where our LSTM Model would also be trained (on content and strat vec tensors)"
   ]
  },
  {
   "cell_type": "code",
   "execution_count": 12,
   "metadata": {},
   "outputs": [
    {
     "data": {
      "text/plain": [
       "AttnContentStrategy(\n",
       "  (linearStrategy): Linear(in_features=6, out_features=64, bias=True)\n",
       "  (linearStrategy2): Linear(in_features=64, out_features=64, bias=True)\n",
       "  (linearContent): Linear(in_features=64, out_features=64, bias=True)\n",
       "  (linearContent2): Linear(in_features=64, out_features=64, bias=True)\n",
       "  (content_proj): Linear(in_features=64, out_features=64, bias=True)\n",
       "  (strat_proj): Linear(in_features=64, out_features=64, bias=True)\n",
       "  (linear1): Linear(in_features=128, out_features=256, bias=True)\n",
       "  (linear2): Linear(in_features=256, out_features=512, bias=True)\n",
       "  (lstm): LSTM(512, 512)\n",
       "  (s_proj): Linear(in_features=512, out_features=512, bias=True)\n",
       "  (softmax): Softmax(dim=1)\n",
       "  (sent_linear1): Linear(in_features=512, out_features=256, bias=True)\n",
       "  (sent_linear2): Linear(in_features=256, out_features=128, bias=True)\n",
       "  (sent_linear3): Linear(in_features=128, out_features=1, bias=True)\n",
       ")"
      ]
     },
     "execution_count": 12,
     "metadata": {},
     "output_type": "execute_result"
    }
   ],
   "source": [
    "test_model = AttnContentStrategy(n_labels)\n",
    "test_model.cuda()\n",
    "test_model.load_state_dict(torch.load(\"best_borrow_model.pkl\"))\n",
    "test_model.eval()"
   ]
  },
  {
   "cell_type": "code",
   "execution_count": 13,
   "metadata": {},
   "outputs": [
    {
     "name": "stderr",
     "output_type": "stream",
     "text": [
      "25it [00:02,  9.64it/s]\n",
      "2it [00:00, 10.86it/s]"
     ]
    },
    {
     "name": "stdout",
     "output_type": "stream",
     "text": [
      "0.6136089923725412 f1\n",
      "0.6141304347826086 p\n",
      "0.6135817307692308 r\n",
      "0.615 acc\n",
      "0.6135817307692308 roc auc\n"
     ]
    },
    {
     "name": "stderr",
     "output_type": "stream",
     "text": [
      "25it [00:02, 10.74it/s]\n"
     ]
    },
    {
     "name": "stdout",
     "output_type": "stream",
     "text": [
      "0.608345258718084 f1\n",
      "0.6086956521739131 p\n",
      "0.6082706766917294 r\n",
      "0.61 acc\n",
      "0.6082706766917294 roc auc\n"
     ]
    }
   ],
   "source": [
    "test_details = get_dataloader_details(test_loader, model, \n",
    "                                       test_model, n_labels, vocab)\n",
    "\n",
    "val_details = get_dataloader_details(val_loader, model, \n",
    "                                       test_model, n_labels, vocab)\n",
    "\n",
    "train_details = get_content_strat_vector_details(content_vectors, strat_vectors, \n",
    "                                        doc_labels, orig_fetch, test_model)\n",
    "\n",
    "# detailers return the following:\n",
    "# f1_score(all_corr, all_out, average=\"macro\"), attns, labels, strategy_orders, all_mids\n",
    "# acc, attn_content_arr, attn_strat_arr, s_score_arr, attn_aud_arr, attn_msg_arr, labels, strategy_orders, orig_fetch"
   ]
  },
  {
   "cell_type": "markdown",
   "metadata": {},
   "source": [
    "## Now, we'll look at correlations between success rate and strategy attention\n",
    "#### Section 3, Content-Strategy interplay"
   ]
  },
  {
   "cell_type": "code",
   "execution_count": 14,
   "metadata": {},
   "outputs": [],
   "source": [
    "import matplotlib.pyplot as plt"
   ]
  },
  {
   "cell_type": "code",
   "execution_count": 15,
   "metadata": {},
   "outputs": [],
   "source": [
    "# datasets is an array of detailers.\n",
    "def get_strategy_attn_freqs(datasets):\n",
    "    freq_all = defaultdict(int)\n",
    "    freq_success = defaultdict(int)\n",
    "    freq_fail = defaultdict(int)\n",
    "    strat_attns = {}\n",
    "\n",
    "    all_attn_vals = []\n",
    "    \n",
    "    for dataset in datasets:\n",
    "        for i, batch_content in enumerate(dataset[-3]):\n",
    "            for j, label in enumerate(batch_content):\n",
    "                attns = dataset[1]\n",
    "                doc_level_attn = attns[\"document\"][i][j].squeeze()\n",
    "                strategy_level_attn = attns[\"strategy\"][i][j].squeeze()\n",
    "                strategy_orders = dataset[-2][i][j]\n",
    "                \n",
    "                # strat arg will contain the relevant ordering\n",
    "                strat_arg = []\n",
    "                \n",
    "                # sum attn is just for the stat in the paper that shows the model focusing on a single triplet.\n",
    "                sum_attn = 0\n",
    "                # extract the most important sentence to find the \"middle\" of the triplet\n",
    "                important_sent = (doc_level_attn.argmax())\n",
    "                all_attn_vals.append(doc_level_attn[important_sent].tolist())\n",
    "                \n",
    "                # handle the left of the triplet\n",
    "                if important_sent == 0:\n",
    "                    strat_arg.append(\"UNK\")\n",
    "                else:\n",
    "                    strat_arg.append(strategy_orders[important_sent - 1].argmax().tolist())\n",
    "                    sum_attn += strategy_level_attn[important_sent - 1].tolist()\n",
    "\n",
    "                # handle the middle triplet        \n",
    "                strat_arg.append(strategy_orders[important_sent].argmax().tolist())\n",
    "                \n",
    "                # are we exceeding the sentence length? sum(strategy_orders) == 0 will tells us that.\n",
    "                if important_sent >= strategy_orders.shape[0] - 1 or sum(strategy_orders[important_sent + 1]) == 0:\n",
    "                    strat_arg.append(\"UNK\")\n",
    "                else:\n",
    "                    strat_arg.append(strategy_orders[important_sent + 1].argmax().tolist())\n",
    "                    sum_attn += strategy_level_attn[important_sent + 1].tolist()\n",
    "                \n",
    "                curr_attn = strategy_level_attn[important_sent].tolist()\n",
    "                sum_attn += curr_attn\n",
    "\n",
    "                strat_key = \" \".join([str(x) for x in strat_arg])\n",
    "        \n",
    "                if strat_key not in strat_attns:\n",
    "                    strat_attns[strat_key] = {\n",
    "                        \"triplet_strategy_attn\": 0,\n",
    "                        \"freq\": 0,\n",
    "                        \"label\": []\n",
    "                    }\n",
    "                \n",
    "                strat_attns[strat_key][\"triplet_strategy_attn\"] += (sum_attn / 3) #curr_attn\n",
    "                strat_attns[strat_key][\"freq\"] += 1\n",
    "                strat_attns[strat_key][\"label\"].append(dataset[-1][i][j])\n",
    "        \n",
    "                if label: freq_success[strat_key] += 1                    \n",
    "                else: freq_fail[strat_key] += 1\n",
    "                \n",
    "                freq_all[strat_key] += 1  \n",
    "    \n",
    "    return freq_all, freq_success, freq_fail, strat_attns, all_attn_vals"
   ]
  },
  {
   "cell_type": "code",
   "execution_count": 16,
   "metadata": {},
   "outputs": [],
   "source": [
    "freq_all, freq_success, freq_fail, strat_attns, attn_vals = get_strategy_attn_freqs([train_details, val_details, test_details])"
   ]
  },
  {
   "cell_type": "code",
   "execution_count": 17,
   "metadata": {},
   "outputs": [],
   "source": [
    "fixed_attns = {strat: (strat_attns[strat][\"triplet_strategy_attn\"] / strat_attns[strat][\"freq\"]) for strat in strat_attns}"
   ]
  },
  {
   "cell_type": "code",
   "execution_count": 18,
   "metadata": {},
   "outputs": [],
   "source": [
    "# all k values here are \"strategies\"\n",
    "sorted_success = {k: v for k, v in sorted(freq_success.items(), key=lambda item: item[1], reverse=True)}\n",
    "sorted_fail = {k: v for k, v in sorted(freq_fail.items(), key=lambda item: item[1], reverse=True)}\n",
    "sorted_strat_attn = {k: v for k, v in sorted(fixed_attns.items(), key=lambda item: item[1], reverse=True)}"
   ]
  },
  {
   "cell_type": "code",
   "execution_count": 19,
   "metadata": {},
   "outputs": [],
   "source": [
    "throw_out = 0\n",
    "success_rate = {}\n",
    "for k in freq_all:\n",
    "    v = freq_all[k]\n",
    "    if v >= 60 and '0' not in k:\n",
    "        success_rate[k] = freq_success[k] / freq_all[k]\n",
    "    else:\n",
    "        throw_out += v"
   ]
  },
  {
   "cell_type": "code",
   "execution_count": 20,
   "metadata": {},
   "outputs": [
    {
     "data": {
      "text/plain": [
       "0.30839338702840186"
      ]
     },
     "execution_count": 20,
     "metadata": {},
     "output_type": "execute_result"
    }
   ],
   "source": [
    "throw_out / sum([freq_all[k] for k in freq_all])"
   ]
  },
  {
   "cell_type": "code",
   "execution_count": 21,
   "metadata": {},
   "outputs": [],
   "source": [
    "sorted_success_rate = {k: v for k, v in sorted(success_rate.items(), key=lambda item: item[1], reverse=True)}"
   ]
  },
  {
   "cell_type": "code",
   "execution_count": 22,
   "metadata": {},
   "outputs": [],
   "source": [
    "merged_strats = {}\n",
    "for k in sorted_success_rate:\n",
    "    merged_strats[k] = [sorted_success_rate[k], sorted_strat_attn[k], strat_attns[k][\"label\"]]"
   ]
  },
  {
   "cell_type": "code",
   "execution_count": 23,
   "metadata": {},
   "outputs": [],
   "source": [
    "rate_success_line = []\n",
    "attn_success_line = []\n",
    "for i in merged_strats:\n",
    "    rate_success_line.append(merged_strats[i][0])\n",
    "    attn_success_line.append(merged_strats[i][1])\n"
   ]
  },
  {
   "cell_type": "code",
   "execution_count": 24,
   "metadata": {},
   "outputs": [
    {
     "data": {
      "text/plain": [
       "[<matplotlib.lines.Line2D at 0x7f359c9b8710>]"
      ]
     },
     "execution_count": 24,
     "metadata": {},
     "output_type": "execute_result"
    },
    {
     "data": {
      "image/png": "[encoded data removed]",
      "text/plain": [
       "<Figure size 432x288 with 1 Axes>"
      ]
     },
     "metadata": {
      "needs_background": "light"
     },
     "output_type": "display_data"
    }
   ],
   "source": [
    "plt.plot(range(0, len(attn_success_line[::-1])), attn_success_line[::-1])\n",
    "plt.plot(range(0, len(attn_success_line[::-1])), rate_success_line[::-1])"
   ]
  },
  {
   "cell_type": "code",
   "execution_count": 25,
   "metadata": {},
   "outputs": [
    {
     "data": {
      "image/png": "[encoded data removed]",
      "text/plain": [
       "<Figure size 432x288 with 2 Axes>"
      ]
     },
     "metadata": {},
     "output_type": "display_data"
    }
   ],
   "source": [
    "labels = []\n",
    "from random import sample \n",
    "for k in merged_strats:\n",
    "    samp_keys = merged_strats[k][-1]\n",
    "    converted_samp = \"\"\n",
    "    for idx, curr_strat in enumerate(k.split(\" \")):\n",
    "        if curr_strat == \"UNK\":\n",
    "            if idx == 0: converted_samp += \"SOS\" + \" \"\n",
    "            else: converted_samp += \"EOS\" + \" \"\n",
    "        else:\n",
    "            converted_samp += all_strategies[inverse_label_mapping[int(curr_strat)]][:2] + \" \"\n",
    "    labels.append(converted_samp[:-1])\n",
    "\n",
    "str_labels = labels[:][::-1]\n",
    "\n",
    "xvals = [0, 1, 2, 7, 14, 21, 28, 29, 30]\n",
    "\n",
    "selected_labels = [str_labels[x] for x in xvals]\n",
    "\n",
    "fig, ax1 = plt.subplots()\n",
    "plt.xticks(xvals, selected_labels, rotation=90)\n",
    "\n",
    "t = range(0, len(attn_success_line[:][::-1]))\n",
    "color = '#00A2FF'\n",
    "ax1.set_xlabel('Strategy', fontsize=14)\n",
    "ax1.set_ylabel('Avg Strategy Attention', color=color, fontsize=14)\n",
    "ax1.plot(t, attn_success_line[:][::-1], color=color)\n",
    "ax1.tick_params(axis='y', labelcolor=color)\n",
    "\n",
    "ax2 = ax1.twinx()  # instantiate a second axes that shares the same x-axis\n",
    "\n",
    "color = '#EF5FA7'\n",
    "ax2.set_ylabel('Success Rate', color=color, fontsize=14)  # we already handled the x-label with ax1\n",
    "ax2.plot(t, rate_success_line[:][::-1], color=color)\n",
    "ax2.tick_params(axis='y', labelcolor=color)\n",
    "ax2.hlines(.485, xmin=0, xmax=31, linestyles='dashed', label=\"baseline\")\n",
    "fig.tight_layout()  # otherwise the right y-label is slightly clipped\n",
    "# plt.show()\n",
    "\n",
    "plt.text(0,.5,'Average Success Rate',rotation=0)\n",
    "plt.savefig(\"color.png\",  bbox_inches='tight')\n"
   ]
  },
  {
   "cell_type": "code",
   "execution_count": 26,
   "metadata": {},
   "outputs": [
    {
     "data": {
      "text/plain": [
       "(-0.9020708231627488, 4.222950873877163e-12)"
      ]
     },
     "execution_count": 26,
     "metadata": {},
     "output_type": "execute_result"
    }
   ],
   "source": [
    "import scipy\n",
    "scipy.stats.pearsonr(rate_success_line[:][::-1], attn_success_line[:][::-1])"
   ]
  },
  {
   "cell_type": "markdown",
   "metadata": {},
   "source": [
    "#### Printing all our strategies -- this is in the appendix."
   ]
  },
  {
   "cell_type": "code",
   "execution_count": 27,
   "metadata": {},
   "outputs": [
    {
     "name": "stdout",
     "output_type": "stream",
     "text": [
      "1 & Po Po EOS & 0.0 & 0.82 \\\\\n",
      "2 & Re Po EOS & 0.01 & 0.76 \\\\\n",
      "3 & Co Po EOS & 0.02 & 0.71 \\\\\n",
      "4 & Cr Po EOS & 0.01 & 0.7 \\\\\n",
      "5 & SOS Re EOS & 0.01 & 0.65 \\\\\n",
      "6 & SOS Po EOS & 0.0 & 0.65 \\\\\n",
      "7 & SOS Im EOS & 0.03 & 0.51 \\\\\n",
      "8 & Re Co EOS & 0.04 & 0.51 \\\\\n",
      "9 & SOS Co EOS & 0.02 & 0.5 \\\\\n",
      "10 & SOS Im Re & 0.04 & 0.5 \\\\\n",
      "11 & Co Re EOS & 0.05 & 0.5 \\\\\n",
      "12 & SOS Co Po & 0.04 & 0.5 \\\\\n",
      "13 & SOS Co Re & 0.04 & 0.49 \\\\\n",
      "14 & SOS Im Co & 0.05 & 0.48 \\\\\n",
      "15 & SOS Im Po & 0.04 & 0.46 \\\\\n",
      "16 & Re Co Po & 0.05 & 0.46 \\\\\n",
      "17 & SOS Co Im & 0.07 & 0.43 \\\\\n",
      "18 & Co Co EOS & 0.05 & 0.42 \\\\\n",
      "19 & Re Co Co & 0.08 & 0.41 \\\\\n",
      "20 & Po Co Co & 0.08 & 0.39 \\\\\n",
      "21 & Co Co Re & 0.08 & 0.39 \\\\\n",
      "22 & Im Co Re & 0.08 & 0.38 \\\\\n",
      "23 & SOS Co Co & 0.07 & 0.38 \\\\\n",
      "24 & SOS Co Cr & 0.05 & 0.37 \\\\\n",
      "25 & Co Im Re & 0.07 & 0.36 \\\\\n",
      "26 & Co Co Po & 0.07 & 0.36 \\\\\n",
      "27 & Im Co Co & 0.1 & 0.35 \\\\\n",
      "28 & Co Co Cr & 0.07 & 0.35 \\\\\n",
      "29 & Co Im Co & 0.09 & 0.34 \\\\\n",
      "30 & Co Co Co & 0.11 & 0.31 \\\\\n",
      "31 & Co Co Im & 0.11 & 0.27 \\\\\n"
     ]
    }
   ],
   "source": [
    "q = 1\n",
    "for k in merged_strats:\n",
    "    converted_samp = \"\"\n",
    "    for idx, curr_strat in enumerate(k.split(\" \")):\n",
    "        if curr_strat == \"UNK\":\n",
    "            if idx == 0:\n",
    "                converted_samp += \"SOS\" + \" \"\n",
    "            else: converted_samp += \"EOS\" + \" \"\n",
    "        else:\n",
    "            converted_samp += all_strategies[inverse_label_mapping[int(curr_strat)]][:2] + \" \"\n",
    "    print(str(q) + \" & \" + converted_samp + \"& \" + str(round(merged_strats[k][:][1], 2)) + \" & \" + str(round(merged_strats[k][:][0], 2)) + \" \\\\\\\\\")\n",
    "    q += 1\n"
   ]
  },
  {
   "cell_type": "markdown",
   "metadata": {},
   "source": [
    "## Finally, we'll edit bad strategies and see what we can do to improve them\n",
    "#### Section 5, Editing Strategy Sequences"
   ]
  },
  {
   "cell_type": "code",
   "execution_count": 28,
   "metadata": {},
   "outputs": [],
   "source": [
    "good_strats = [\"5 5 UNK\", \"2 5 UNK\", \"3 5 UNK\"]\n",
    "bad_strats = [\"3 4 3\", \"3 3 3\", \"3 3 4\"]"
   ]
  },
  {
   "cell_type": "code",
   "execution_count": 29,
   "metadata": {},
   "outputs": [],
   "source": [
    "# this method takes a map of strings and returns the attn and success rate. \n",
    "def read_all_unlabeled(limited_unlabeled_data, data_path):\n",
    "\n",
    "    max_seq_num=args.max_seq_num\n",
    "    max_seq_len=args.max_seq_len\n",
    "    \n",
    "    with open(data_path + 'labeled_data.pkl', 'rb') as f:\n",
    "        labeled_data = pickle.load(f)\n",
    "        # {mid: sentences, labels}\n",
    "    with open(data_path + 'unlabeled_data.pkl', 'rb') as f:\n",
    "        unlabeled_data = pickle.load(f)\n",
    "        # {mid: message}\n",
    "    with open(data_path + 'mid2target.pkl', 'rb') as f:\n",
    "        mid2target = pickle.load(f)\n",
    "        # {mid: target, team_size}\n",
    "    \n",
    "    with open(data_path + 'label_mapping.pkl', 'rb') as f:\n",
    "        label_mapping = pickle.load(f)\n",
    "\n",
    "    try:\n",
    "        with open(data_path + 'vocab_2.pkl', 'rb') as f:\n",
    "            vocab = pickle.load(f)\n",
    "\n",
    "        print('unk words: ', vocab.unk_count)\n",
    "        print('vocab size: ', vocab.vocab_size)\n",
    "    except:\n",
    "        vocab = Vocab(unlabeled_data=unlabeled_data,\n",
    "                      labeled_data=labeled_data, embedding_size=embedding_size)\n",
    "\n",
    "        with open(data_path + 'vocab_2.pkl', 'wb') as f:\n",
    "            pickle.dump(vocab, f)\n",
    "\n",
    "        print('unk words: ', vocab.unk_count)\n",
    "        print('vocab size: ', vocab.vocab_size)\n",
    "\n",
    "    all_ids = [k for k in limited_unlabeled_data]\n",
    "    \n",
    "    train_unlabeled_dataset = Loader_unlabeled(\n",
    "        vocab, limited_unlabeled_data, all_ids, mid2target, max_seq_num, max_seq_len)\n",
    "\n",
    "    train_limited_loader = Data.DataLoader(\n",
    "        dataset=train_unlabeled_dataset, batch_size=16, shuffle=False)\n",
    "    \n",
    "    unlabeled_train_iter = iter(train_limited_loader)\n",
    "\n",
    "    content_vectors, strat_vectors, doc_labels, orig_mids = full_iterator(unlabeled_train_iter, \n",
    "        unlabeled_trainloader, vocab, model, n_labels)\n",
    "        \n",
    "    subset_details = get_content_strat_vector_details(content_vectors, strat_vectors, doc_labels,\n",
    "                                     None, test_model, return_rate=True)\n",
    "\n",
    "    flatten_doc_attn = [j for i in subset_details[1][\"document\"] for j in i]\n",
    "    flatten_sent_attn = [j for i in subset_details[1][\"strategy\"] for j in i]\n",
    "    flatten_mid = [j for i in orig_mids for j in i]\n",
    "    all_sent_attn = []\n",
    "\n",
    "    sent_map = {}\n",
    "    target_sent = []\n",
    "    for i in range(0, len(flatten_doc_attn)):\n",
    "        tot = 0\n",
    "        sent_map[flatten_mid[i]] = flatten_doc_attn[i].argmax().tolist()\n",
    "        if flatten_doc_attn[i].argmax().tolist() > 0:\n",
    "            tot += flatten_sent_attn[i][flatten_doc_attn[i].argmax() - 1].squeeze().tolist()\n",
    "        \n",
    "        if flatten_doc_attn[i].argmax().tolist() < 6:\n",
    "            tot += flatten_sent_attn[i][flatten_doc_attn[i].argmax() + 1].squeeze().tolist()\n",
    "        \n",
    "        tot += flatten_sent_attn[i][flatten_doc_attn[i].argmax()].squeeze().tolist()\n",
    "        all_sent_attn.append(tot/3)\n",
    "    \n",
    "    print(\"average msg attn: \" + str(sum(all_sent_attn) / len(all_sent_attn)))\n",
    "    print(\"success rate: \" + str(subset_details[-1]))\n",
    "    return sent_map, subset_details[-1], (sum(all_sent_attn) / len(all_sent_attn))\n"
   ]
  },
  {
   "cell_type": "code",
   "execution_count": 30,
   "metadata": {},
   "outputs": [
    {
     "name": "stdout",
     "output_type": "stream",
     "text": [
      "unk words:  9516\n",
      "vocab size:  13944\n",
      "average msg attn: 0.10479660402196406\n",
      "success rate: 0.10882956878850103\n"
     ]
    }
   ],
   "source": [
    "bad, good = get_samples(good_strats, bad_strats, merged_strats, \n",
    "            unlabeled_data_pkl, labeled_data_pkl, all_strategies, inverse_label_mapping)\n",
    "target_sents, _, _ = read_all_unlabeled(bad, args.data_path)\n",
    "bad_copy = fix_bad(bad, good, target_sents)"
   ]
  },
  {
   "cell_type": "code",
   "execution_count": 31,
   "metadata": {},
   "outputs": [],
   "source": [
    "insertion_length = []\n",
    "for k in good:\n",
    "    e = sum([len(nltk.word_tokenize(x)) for x in nltk.sent_tokenize(good[k])[-2:]])\n",
    "    insertion_length.append(e)"
   ]
  },
  {
   "cell_type": "code",
   "execution_count": 32,
   "metadata": {},
   "outputs": [],
   "source": [
    "total_len = []\n",
    "for k in bad:\n",
    "    total_len.append(len(nltk.word_tokenize(bad[k])))"
   ]
  },
  {
   "cell_type": "code",
   "execution_count": 33,
   "metadata": {},
   "outputs": [],
   "source": [
    "delete_len = []\n",
    "for k in bad:\n",
    "    sents_bad = nltk.sent_tokenize(bad[k])        \n",
    "    target = target_sents[k]\n",
    "    e = sum([len(nltk.word_tokenize(x)) for x in sents_bad[target-1:target+2]])\n",
    "    delete_len.append(e)"
   ]
  },
  {
   "cell_type": "code",
   "execution_count": 34,
   "metadata": {},
   "outputs": [
    {
     "data": {
      "text/plain": [
       "count    974.000000\n",
       "mean      58.796715\n",
       "std       29.682731\n",
       "min        0.000000\n",
       "25%       43.000000\n",
       "50%       59.000000\n",
       "75%       75.000000\n",
       "max      262.000000\n",
       "dtype: float64"
      ]
     },
     "execution_count": 34,
     "metadata": {},
     "output_type": "execute_result"
    }
   ],
   "source": [
    "pd.Series(delete_len).describe()"
   ]
  },
  {
   "cell_type": "code",
   "execution_count": 35,
   "metadata": {},
   "outputs": [
    {
     "data": {
      "text/plain": [
       "count     974.000000\n",
       "mean      174.388090\n",
       "std       128.870974\n",
       "min        23.000000\n",
       "25%        93.000000\n",
       "50%       138.500000\n",
       "75%       214.750000\n",
       "max      1613.000000\n",
       "dtype: float64"
      ]
     },
     "execution_count": 35,
     "metadata": {},
     "output_type": "execute_result"
    }
   ],
   "source": [
    "pd.Series(total_len).describe()"
   ]
  },
  {
   "cell_type": "code",
   "execution_count": 36,
   "metadata": {},
   "outputs": [
    {
     "data": {
      "text/plain": [
       "count    775.000000\n",
       "mean      12.476129\n",
       "std       13.414256\n",
       "min        0.000000\n",
       "25%        3.000000\n",
       "50%        6.000000\n",
       "75%       19.000000\n",
       "max      117.000000\n",
       "dtype: float64"
      ]
     },
     "execution_count": 36,
     "metadata": {},
     "output_type": "execute_result"
    }
   ],
   "source": [
    "pd.Series(insertion_length).describe()"
   ]
  },
  {
   "cell_type": "markdown",
   "metadata": {},
   "source": [
    "### fix_bad takes two optional params: delete=False and insert=False, as defined in the paper\n",
    "### Here, we explore deletion, insertion, then deletion + insertion"
   ]
  },
  {
   "cell_type": "code",
   "execution_count": 37,
   "metadata": {},
   "outputs": [
    {
     "name": "stdout",
     "output_type": "stream",
     "text": [
      "unk words:  9516\n",
      "vocab size:  13944\n",
      "average msg attn: 0.10479660402196406\n",
      "success rate: 0.10882956878850103\n"
     ]
    }
   ],
   "source": [
    "bad_copy = fix_bad(bad, good, target_sents)\n",
    "_, rate, attn = read_all_unlabeled(bad_copy, args.data_path)"
   ]
  },
  {
   "cell_type": "code",
   "execution_count": 38,
   "metadata": {},
   "outputs": [
    {
     "name": "stdout",
     "output_type": "stream",
     "text": [
      "unk words:  9516\n",
      "vocab size:  13944\n",
      "average msg attn: 0.05553688770502318\n",
      "success rate: 0.43121149897330596\n"
     ]
    }
   ],
   "source": [
    "bad_copy = fix_bad(bad, good, target_sents, True)\n",
    "_, rate, attn = read_all_unlabeled(bad_copy, args.data_path)"
   ]
  },
  {
   "cell_type": "code",
   "execution_count": 39,
   "metadata": {},
   "outputs": [
    {
     "name": "stdout",
     "output_type": "stream",
     "text": [
      "unk words:  9516\n",
      "vocab size:  13944\n",
      "average msg attn: 0.10443263241609096\n",
      "success rate: 0.10677618069815195\n"
     ]
    }
   ],
   "source": [
    "bad_copy = fix_bad(bad, good, target_sents, False, True)\n",
    "_, rate, attn = read_all_unlabeled(bad_copy, args.data_path)"
   ]
  },
  {
   "cell_type": "code",
   "execution_count": 40,
   "metadata": {},
   "outputs": [
    {
     "name": "stdout",
     "output_type": "stream",
     "text": [
      "unk words:  9516\n",
      "vocab size:  13944\n",
      "average msg attn: 0.05593976073684503\n",
      "success rate: 0.41478439425051333\n"
     ]
    }
   ],
   "source": [
    "bad_copy = fix_bad(bad, good, target_sents, True, True)\n",
    "_, rate, attn = read_all_unlabeled(bad_copy, args.data_path)"
   ]
  },
  {
   "cell_type": "code",
   "execution_count": 41,
   "metadata": {},
   "outputs": [
    {
     "name": "stderr",
     "output_type": "stream",
     "text": [
      "  0%|          | 0/10 [00:00<?, ?it/s]"
     ]
    },
    {
     "name": "stdout",
     "output_type": "stream",
     "text": [
      "###################################\n",
      "\n",
      "\n",
      "unk words:  9516\n",
      "vocab size:  13944\n",
      "average msg attn: 0.10479660402196406\n",
      "success rate: 0.10882956878850103\n",
      "\n",
      "unk words:  9516\n",
      "vocab size:  13944\n",
      "average msg attn: 0.05553688770502318\n",
      "success rate: 0.43121149897330596\n",
      "\n",
      "unk words:  9516\n",
      "vocab size:  13944\n",
      "average msg attn: 0.10461854308646473\n",
      "success rate: 0.10882956878850103\n",
      "\n",
      "unk words:  9516\n",
      "vocab size:  13944\n"
     ]
    },
    {
     "name": "stderr",
     "output_type": "stream",
     "text": [
      " 10%|█         | 1/10 [00:28<04:18, 28.68s/it]"
     ]
    },
    {
     "name": "stdout",
     "output_type": "stream",
     "text": [
      "average msg attn: 0.056197923900931486\n",
      "success rate: 0.4240246406570842\n",
      "###################################\n",
      "\n",
      "\n",
      "unk words:  9516\n",
      "vocab size:  13944\n",
      "average msg attn: 0.10479660402196406\n",
      "success rate: 0.10882956878850103\n",
      "\n",
      "unk words:  9516\n",
      "vocab size:  13944\n",
      "average msg attn: 0.05553688770502318\n",
      "success rate: 0.43121149897330596\n",
      "\n",
      "unk words:  9516\n",
      "vocab size:  13944\n",
      "average msg attn: 0.10442779890192538\n",
      "success rate: 0.11190965092402463\n",
      "\n",
      "unk words:  9516\n",
      "vocab size:  13944\n"
     ]
    },
    {
     "name": "stderr",
     "output_type": "stream",
     "text": [
      " 20%|██        | 2/10 [00:57<03:48, 28.61s/it]"
     ]
    },
    {
     "name": "stdout",
     "output_type": "stream",
     "text": [
      "average msg attn: 0.056144793185587225\n",
      "success rate: 0.4137577002053388\n",
      "###################################\n",
      "\n",
      "\n",
      "unk words:  9516\n",
      "vocab size:  13944\n",
      "average msg attn: 0.10479660402196406\n",
      "success rate: 0.10882956878850103\n",
      "\n",
      "unk words:  9516\n",
      "vocab size:  13944\n",
      "average msg attn: 0.05553688770502318\n",
      "success rate: 0.43121149897330596\n",
      "\n",
      "unk words:  9516\n",
      "vocab size:  13944\n",
      "average msg attn: 0.10452551064056297\n",
      "success rate: 0.10882956878850103\n",
      "\n",
      "unk words:  9516\n",
      "vocab size:  13944\n"
     ]
    },
    {
     "name": "stderr",
     "output_type": "stream",
     "text": [
      " 30%|███       | 3/10 [01:25<03:20, 28.61s/it]"
     ]
    },
    {
     "name": "stdout",
     "output_type": "stream",
     "text": [
      "average msg attn: 0.05581704872661796\n",
      "success rate: 0.4240246406570842\n",
      "###################################\n",
      "\n",
      "\n",
      "unk words:  9516\n",
      "vocab size:  13944\n",
      "average msg attn: 0.10479660402196406\n",
      "success rate: 0.10882956878850103\n",
      "\n",
      "unk words:  9516\n",
      "vocab size:  13944\n",
      "average msg attn: 0.05553688770502318\n",
      "success rate: 0.43121149897330596\n",
      "\n",
      "unk words:  9516\n",
      "vocab size:  13944\n",
      "average msg attn: 0.10454180615406897\n",
      "success rate: 0.10882956878850103\n",
      "\n",
      "unk words:  9516\n",
      "vocab size:  13944\n"
     ]
    },
    {
     "name": "stderr",
     "output_type": "stream",
     "text": [
      " 40%|████      | 4/10 [01:54<02:51, 28.52s/it]"
     ]
    },
    {
     "name": "stdout",
     "output_type": "stream",
     "text": [
      "average msg attn: 0.05581811352352291\n",
      "success rate: 0.41581108829568786\n",
      "###################################\n",
      "\n",
      "\n",
      "unk words:  9516\n",
      "vocab size:  13944\n",
      "average msg attn: 0.10479660402196406\n",
      "success rate: 0.10882956878850103\n",
      "\n",
      "unk words:  9516\n",
      "vocab size:  13944\n",
      "average msg attn: 0.05553688770502318\n",
      "success rate: 0.43121149897330596\n",
      "\n",
      "unk words:  9516\n",
      "vocab size:  13944\n",
      "average msg attn: 0.10470947515003581\n",
      "success rate: 0.10677618069815195\n",
      "\n",
      "unk words:  9516\n",
      "vocab size:  13944\n"
     ]
    },
    {
     "name": "stderr",
     "output_type": "stream",
     "text": [
      " 50%|█████     | 5/10 [02:22<02:22, 28.58s/it]"
     ]
    },
    {
     "name": "stdout",
     "output_type": "stream",
     "text": [
      "average msg attn: 0.0557364977147501\n",
      "success rate: 0.4219712525667351\n",
      "###################################\n",
      "\n",
      "\n",
      "unk words:  9516\n",
      "vocab size:  13944\n",
      "average msg attn: 0.10479660402196406\n",
      "success rate: 0.10882956878850103\n",
      "\n",
      "unk words:  9516\n",
      "vocab size:  13944\n",
      "average msg attn: 0.05553688770502318\n",
      "success rate: 0.43121149897330596\n",
      "\n",
      "unk words:  9516\n",
      "vocab size:  13944\n",
      "average msg attn: 0.10479174559208841\n",
      "success rate: 0.10369609856262833\n",
      "\n",
      "unk words:  9516\n",
      "vocab size:  13944\n"
     ]
    },
    {
     "name": "stderr",
     "output_type": "stream",
     "text": [
      " 60%|██████    | 6/10 [02:51<01:53, 28.50s/it]"
     ]
    },
    {
     "name": "stdout",
     "output_type": "stream",
     "text": [
      "average msg attn: 0.05573215856250455\n",
      "success rate: 0.41786447638603696\n",
      "###################################\n",
      "\n",
      "\n",
      "unk words:  9516\n",
      "vocab size:  13944\n",
      "average msg attn: 0.10479660402196406\n",
      "success rate: 0.10882956878850103\n",
      "\n",
      "unk words:  9516\n",
      "vocab size:  13944\n",
      "average msg attn: 0.05553688770502318\n",
      "success rate: 0.43121149897330596\n",
      "\n",
      "unk words:  9516\n",
      "vocab size:  13944\n",
      "average msg attn: 0.10464056900696656\n",
      "success rate: 0.11088295687885011\n",
      "\n",
      "unk words:  9516\n",
      "vocab size:  13944\n"
     ]
    },
    {
     "name": "stderr",
     "output_type": "stream",
     "text": [
      " 70%|███████   | 7/10 [03:19<01:25, 28.52s/it]"
     ]
    },
    {
     "name": "stdout",
     "output_type": "stream",
     "text": [
      "average msg attn: 0.056092568109071185\n",
      "success rate: 0.41683778234086244\n",
      "###################################\n",
      "\n",
      "\n",
      "unk words:  9516\n",
      "vocab size:  13944\n",
      "average msg attn: 0.10479660402196406\n",
      "success rate: 0.10882956878850103\n",
      "\n",
      "unk words:  9516\n",
      "vocab size:  13944\n",
      "average msg attn: 0.05553688770502318\n",
      "success rate: 0.43121149897330596\n",
      "\n",
      "unk words:  9516\n",
      "vocab size:  13944\n",
      "average msg attn: 0.10460239188637376\n",
      "success rate: 0.10985626283367557\n",
      "\n",
      "unk words:  9516\n",
      "vocab size:  13944\n"
     ]
    },
    {
     "name": "stderr",
     "output_type": "stream",
     "text": [
      " 80%|████████  | 8/10 [03:47<00:56, 28.46s/it]"
     ]
    },
    {
     "name": "stdout",
     "output_type": "stream",
     "text": [
      "average msg attn: 0.05576516908451678\n",
      "success rate: 0.41786447638603696\n",
      "###################################\n",
      "\n",
      "\n",
      "unk words:  9516\n",
      "vocab size:  13944\n",
      "average msg attn: 0.10479660402196406\n",
      "success rate: 0.10882956878850103\n",
      "\n",
      "unk words:  9516\n",
      "vocab size:  13944\n",
      "average msg attn: 0.05553688770502318\n",
      "success rate: 0.43121149897330596\n",
      "\n",
      "unk words:  9516\n",
      "vocab size:  13944\n",
      "average msg attn: 0.10468280395950212\n",
      "success rate: 0.10677618069815195\n",
      "\n",
      "unk words:  9516\n",
      "vocab size:  13944\n"
     ]
    },
    {
     "name": "stderr",
     "output_type": "stream",
     "text": [
      " 90%|█████████ | 9/10 [04:16<00:28, 28.50s/it]"
     ]
    },
    {
     "name": "stdout",
     "output_type": "stream",
     "text": [
      "average msg attn: 0.055784642970722075\n",
      "success rate: 0.419917864476386\n",
      "###################################\n",
      "\n",
      "\n",
      "unk words:  9516\n",
      "vocab size:  13944\n",
      "average msg attn: 0.10479660402196406\n",
      "success rate: 0.10882956878850103\n",
      "\n",
      "unk words:  9516\n",
      "vocab size:  13944\n",
      "average msg attn: 0.05553688770502318\n",
      "success rate: 0.43121149897330596\n",
      "\n",
      "unk words:  9516\n",
      "vocab size:  13944\n",
      "average msg attn: 0.1047780463650295\n",
      "success rate: 0.11396303901437371\n",
      "\n",
      "unk words:  9516\n",
      "vocab size:  13944\n"
     ]
    },
    {
     "name": "stderr",
     "output_type": "stream",
     "text": [
      "100%|██████████| 10/10 [04:44<00:00, 28.49s/it]"
     ]
    },
    {
     "name": "stdout",
     "output_type": "stream",
     "text": [
      "average msg attn: 0.056053411871956504\n",
      "success rate: 0.41786447638603696\n"
     ]
    },
    {
     "name": "stderr",
     "output_type": "stream",
     "text": [
      "\n"
     ]
    }
   ],
   "source": [
    "case1_rate = []\n",
    "case1_attn = []\n",
    "\n",
    "case2_rate = []\n",
    "case2_attn = []\n",
    "\n",
    "case3_rate = []\n",
    "case3_attn = []\n",
    "\n",
    "case4_rate = []\n",
    "case4_attn = []\n",
    "\n",
    "for runs in tqdm(range(10)): \n",
    "\n",
    "    print(\"###################################\")\n",
    "    print(\"\")\n",
    "    print(\"\")\n",
    "        \n",
    "    bad_copy = fix_bad(bad, good, target_sents)\n",
    "    _, rate, attn = read_all_unlabeled(bad_copy, args.data_path)\n",
    "    case1_rate.append(rate)\n",
    "    case1_attn.append(attn)  \n",
    "    \n",
    "    print()\n",
    "    \n",
    "    bad_copy = fix_bad(bad, good, target_sents, True)\n",
    "    _, rate, attn = read_all_unlabeled(bad_copy, args.data_path)\n",
    "    case2_rate.append(rate)\n",
    "    case2_attn.append(attn)  \n",
    "    \n",
    "    print()\n",
    "    \n",
    "    bad_copy = fix_bad(bad, good, target_sents, False, True)\n",
    "    _, rate, attn = read_all_unlabeled(bad_copy, args.data_path)\n",
    "    case3_rate.append(rate)\n",
    "    case3_attn.append(attn)  \n",
    "\n",
    "    print()\n",
    "    \n",
    "    bad_copy = fix_bad(bad, good, target_sents, True, True)\n",
    "    _, rate, attn = read_all_unlabeled(bad_copy, args.data_path)\n",
    "    case4_rate.append(rate)\n",
    "    case4_attn.append(attn)  "
   ]
  },
  {
   "cell_type": "code",
   "execution_count": 42,
   "metadata": {},
   "outputs": [],
   "source": [
    "def avg(lst):\n",
    "    return sum(lst) / len(lst)"
   ]
  },
  {
   "cell_type": "markdown",
   "metadata": {},
   "source": [
    "### Original"
   ]
  },
  {
   "cell_type": "code",
   "execution_count": 43,
   "metadata": {},
   "outputs": [
    {
     "data": {
      "text/plain": [
       "0.10882956878850103"
      ]
     },
     "execution_count": 43,
     "metadata": {},
     "output_type": "execute_result"
    }
   ],
   "source": [
    "avg(case1_rate)"
   ]
  },
  {
   "cell_type": "markdown",
   "metadata": {},
   "source": [
    "### Insert"
   ]
  },
  {
   "cell_type": "code",
   "execution_count": 44,
   "metadata": {},
   "outputs": [
    {
     "data": {
      "text/plain": [
       "0.4312114989733059"
      ]
     },
     "execution_count": 44,
     "metadata": {},
     "output_type": "execute_result"
    }
   ],
   "source": [
    "avg(case2_rate)"
   ]
  },
  {
   "cell_type": "markdown",
   "metadata": {},
   "source": [
    "### Delete"
   ]
  },
  {
   "cell_type": "code",
   "execution_count": 45,
   "metadata": {},
   "outputs": [
    {
     "data": {
      "text/plain": [
       "0.10903490759753594"
      ]
     },
     "execution_count": 45,
     "metadata": {},
     "output_type": "execute_result"
    }
   ],
   "source": [
    "avg(case3_rate)"
   ]
  },
  {
   "cell_type": "markdown",
   "metadata": {},
   "source": [
    "### Swap"
   ]
  },
  {
   "cell_type": "code",
   "execution_count": 46,
   "metadata": {},
   "outputs": [
    {
     "data": {
      "text/plain": [
       "0.4189938398357289"
      ]
     },
     "execution_count": 46,
     "metadata": {},
     "output_type": "execute_result"
    }
   ],
   "source": [
    "avg(case4_rate)"
   ]
  }
 ],
 "metadata": {
  "kernelspec": {
   "display_name": "Python 3",
   "language": "python",
   "name": "python3"
  },
  "language_info": {
   "codemirror_mode": {
    "name": "ipython",
    "version": 3
   },
   "file_extension": ".py",
   "mimetype": "text/x-python",
   "name": "python",
   "nbconvert_exporter": "python",
   "pygments_lexer": "ipython3",
   "version": "3.7.6"
  }
 },
 "nbformat": 4,
 "nbformat_minor": 4
}
